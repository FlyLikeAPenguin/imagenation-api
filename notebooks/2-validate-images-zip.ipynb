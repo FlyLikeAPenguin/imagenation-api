{
 "cells": [
  {
   "cell_type": "code",
   "execution_count": 16,
   "metadata": {},
   "outputs": [],
   "source": [
    "import mimetypes\n",
    "import pathlib\n",
    "import shutil\n",
    "import tempfile\n",
    "from PIL import Image, ImageOps\n"
   ]
  },
  {
   "cell_type": "code",
   "execution_count": 17,
   "metadata": {},
   "outputs": [],
   "source": [
    "NOTEBOOKS_DIR = pathlib.Path().resolve()\n",
    "REPO_DIR = NOTEBOOKS_DIR.parent\n",
    "DATA_DIR = REPO_DIR / \"data\"\n",
    "INPUTS_DIR = DATA_DIR / \"inputs\"\n",
    "OUTPUTS_DIR = DATA_DIR / \"outputs\""
   ]
  },
  {
   "cell_type": "code",
   "execution_count": 18,
   "metadata": {},
   "outputs": [],
   "source": [
    "def perform_is_image(path, require_can_open=True):\n",
    "    try:\n",
    "        mime_type, _ = mimetypes.guess_type(path)\n",
    "    except:\n",
    "        mime_type = \"\"\n",
    "\n",
    "    if not mime_type.startswith(\"image\"):\n",
    "        return False\n",
    "    if require_can_open:\n",
    "        try:\n",
    "            Image.open(path)\n",
    "        except:\n",
    "            return False\n",
    "    return True"
   ]
  },
  {
   "cell_type": "code",
   "execution_count": 19,
   "metadata": {},
   "outputs": [
    {
     "name": "stdout",
     "output_type": "stream",
     "text": [
      "<PIL.JpegImagePlugin.JpegImageFile image mode=RGB size=4000x6000 at 0x7FDB91A4AF80>\n",
      "<PIL.JpegImagePlugin.JpegImageFile image mode=RGB size=2736x3648 at 0x7FDB91ACF790>\n",
      "<PIL.JpegImagePlugin.JpegImageFile image mode=RGB size=2736x3648 at 0x7FDB91A35450>\n",
      "<PIL.JpegImagePlugin.JpegImageFile image mode=RGB size=3072x4080 at 0x7FDB91A35210>\n",
      "<PIL.JpegImagePlugin.JpegImageFile image mode=RGB size=2736x3648 at 0x7FDB91A345E0>\n",
      "<PIL.JpegImagePlugin.JpegImageFile image mode=RGB size=1512x2688 at 0x7FDB91A35450>\n",
      "<PIL.JpegImagePlugin.JpegImageFile image mode=RGB size=3072x4080 at 0x7FDB91A35210>\n",
      "<PIL.JpegImagePlugin.JpegImageFile image mode=RGB size=2736x3648 at 0x7FDB91A345E0>\n",
      "<PIL.JpegImagePlugin.JpegImageFile image mode=RGB size=4836x3869 at 0x7FDB91A35450>\n",
      "<PIL.JpegImagePlugin.JpegImageFile image mode=RGB size=2736x3648 at 0x7FDB91A35210>\n"
     ]
    }
   ],
   "source": [
    "image_file_paths = []\n",
    "for file_path in INPUTS_DIR.glob(\"*\"):\n",
    "    is_image = perform_is_image(file_path)\n",
    "    if not is_image:\n",
    "        continue\n",
    "    image_file_paths.append(file_path)"
   ]
  },
  {
   "cell_type": "code",
   "execution_count": 20,
   "metadata": {},
   "outputs": [],
   "source": [
    "OUTPUTS_DIR.mkdir(exist_ok=True, parents=True)\n",
    "zip_out_path = OUTPUTS_DIR / \"images.zip\""
   ]
  },
  {
   "cell_type": "code",
   "execution_count": 21,
   "metadata": {},
   "outputs": [
    {
     "name": "stdout",
     "output_type": "stream",
     "text": [
      "Zipped images to /root/source/imagenation-api/data/outputs/images.zip\n"
     ]
    }
   ],
   "source": [
    "with tempfile.TemporaryDirectory() as tmp_dir:\n",
    "    for image_file_path in image_file_paths:\n",
    "        shutil.copy(image_file_path, tmp_dir)\n",
    "\n",
    "    shutil.make_archive(zip_out_path.with_suffix(\"\"), \"zip\", tmp_dir)\n",
    "    print(f\"Zipped images to {zip_out_path}\")"
   ]
  }
 ],
 "metadata": {
  "kernelspec": {
   "display_name": "venv",
   "language": "python",
   "name": "python3"
  },
  "language_info": {
   "codemirror_mode": {
    "name": "ipython",
    "version": 3
   },
   "file_extension": ".py",
   "mimetype": "text/x-python",
   "name": "python",
   "nbconvert_exporter": "python",
   "pygments_lexer": "ipython3",
   "version": "3.10.12"
  }
 },
 "nbformat": 4,
 "nbformat_minor": 2
}
