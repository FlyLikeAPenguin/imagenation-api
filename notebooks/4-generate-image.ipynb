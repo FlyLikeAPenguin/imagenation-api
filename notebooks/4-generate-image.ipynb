{
    "cells": [
        {
            "cell_type": "code",
            "execution_count": 5,
            "metadata": {},
            "outputs": [],
            "source": [
                "import pathlib\n",
                "\n",
                "NBS_DIR = pathlib.Path().resolve()\n",
                "REPO_DIR = NBS_DIR.parent\n",
                "DATA_DIR = REPO_DIR / \"data\"\n",
                "GENERATED_DIR = DATA_DIR / \"generated\"\n",
                "GENERATED_DIR.mkdir(exist_ok=True, parents=True)"
            ]
        },
        {
            "cell_type": "code",
            "execution_count": 6,
            "metadata": {},
            "outputs": [],
            "source": [
                "from decouple import config, Config, RepositoryEnv\n",
                "config = Config(RepositoryEnv(REPO_DIR / \".env\"))\n",
                "\n",
                "REPLICATE_API_TOKEN = config(\"REPLICATE_API_TOKEN\")\n",
                "REPLICATE_MODEL = config(\"REPLICATE_MODEL\", default=\"flylikeapenguin/imagenation-joe-v1\")\n",
                "REPLICATE_MODEL_VERSION = config(\"REPLICATE_MODEL_VERSION\", default=\"13ef474b3581629940a325ed0c3b3f3408cfccad7da103e494ae81f5bdfb394a\")"
            ]
        },
        {
            "cell_type": "code",
            "execution_count": 7,
            "metadata": {},
            "outputs": [],
            "source": [
                "from replicate.client import Client\n",
                "\n",
                "replicate_client = Client(api_token=REPLICATE_API_TOKEN)"
            ]
        },
        {
            "cell_type": "code",
            "execution_count": 8,
            "metadata": {},
            "outputs": [
                {
                    "name": "stdout",
                    "output_type": "stream",
                    "text": [
                        "[<replicate.helpers.FileOutput object at 0x7f4b4416f4f0>, <replicate.helpers.FileOutput object at 0x7f4b4938bd30>, <replicate.helpers.FileOutput object at 0x7f4b4938bbe0>, <replicate.helpers.FileOutput object at 0x7f4b4938bb50>]\n"
                    ]
                }
            ],
            "source": [
                "model = f\"{REPLICATE_MODEL}:{REPLICATE_MODEL_VERSION}\"\n",
                "prompt = \"a photo of TOK adult man dressed up for a professional photo shoot\"\n",
                "\n",
                "responses = replicate_client.run(\n",
                "    model,\n",
                "    input={\n",
                "        \"model\": \"dev\",\n",
                "        \"prompt\": prompt,\n",
                "        \"num_outputs\": 4,\n",
                "        \"output_format\": \"jpg\",\n",
                "    }\n",
                ")\n",
                "print(responses)"
            ]
        },
        {
            "cell_type": "code",
            "execution_count": 9,
            "metadata": {},
            "outputs": [
                {
                    "data": {
                        "text/plain": [
                            "4"
                        ]
                    },
                    "execution_count": 9,
                    "metadata": {},
                    "output_type": "execute_result"
                }
            ],
            "source": [
                "\n",
                "len(responses)"
            ]
        },
        {
            "cell_type": "code",
            "execution_count": 10,
            "metadata": {},
            "outputs": [],
            "source": [
                "import random\n",
                "session_id = random.randint(1_000, 40_000)\n",
                "for i, output in enumerate(responses):\n",
                "    fname = f\"{i}-{session_id}.jpg\"\n",
                "    outpath = GENERATED_DIR / fname\n",
                "    with open(outpath, 'wb') as f:\n",
                "        f.write(output.read())"
            ]
        }
    ],
    "metadata": {
        "kernelspec": {
            "display_name": "venv",
            "language": "python",
            "name": "python3"
        },
        "language_info": {
            "codemirror_mode": {
                "name": "ipython",
                "version": 3
            },
            "file_extension": ".py",
            "mimetype": "text/x-python",
            "name": "python",
            "nbconvert_exporter": "python",
            "pygments_lexer": "ipython3",
            "version": "3.10.12"
        }
    },
    "nbformat": 4,
    "nbformat_minor": 2
}
