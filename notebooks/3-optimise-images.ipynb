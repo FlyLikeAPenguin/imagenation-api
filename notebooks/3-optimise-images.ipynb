{
 "cells": [
  {
   "cell_type": "code",
   "execution_count": 22,
   "metadata": {},
   "outputs": [],
   "source": [
    "import mimetypes\n",
    "import pathlib\n",
    "import shutil\n",
    "import tempfile\n",
    "from PIL import Image, ImageOps\n"
   ]
  },
  {
   "cell_type": "code",
   "execution_count": 23,
   "metadata": {},
   "outputs": [],
   "source": [
    "NOTEBOOKS_DIR = pathlib.Path().resolve()\n",
    "REPO_DIR = NOTEBOOKS_DIR.parent\n",
    "DATA_DIR = REPO_DIR / \"data\"\n",
    "INPUTS_DIR = DATA_DIR / \"inputs\"\n",
    "READY_DIR = DATA_DIR / \"ready\"\n",
    "OUTPUTS_DIR = DATA_DIR / \"outputs\""
   ]
  },
  {
   "cell_type": "code",
   "execution_count": 24,
   "metadata": {},
   "outputs": [],
   "source": [
    "def perform_is_image(path, require_can_open=True):\n",
    "    try:\n",
    "        mime_type, _ = mimetypes.guess_type(path)\n",
    "    except:\n",
    "        mime_type = \"\"\n",
    "\n",
    "    if not mime_type.startswith(\"image\"):\n",
    "        return False\n",
    "    if require_can_open:\n",
    "        try:\n",
    "            Image.open(path)\n",
    "        except:\n",
    "            return False\n",
    "    return True"
   ]
  },
  {
   "cell_type": "code",
   "execution_count": 25,
   "metadata": {},
   "outputs": [],
   "source": [
    "def clear_and_optimise_image(image_path, output_path, max_size=(1920, 1920)):\n",
    "    \"\"\"\n",
    "    Removes all metadata from an image (e.g. EXIF data).\n",
    "    Optimizes the image file size while preserving quality and transparency when needed.\n",
    "    \"\"\"\n",
    "    # Convert to Path objects\n",
    "    image_path = pathlib.Path(image_path)\n",
    "    output_path = pathlib.Path(output_path)\n",
    "    \n",
    "    # Open and create clean copy\n",
    "    original = Image.open(image_path)\n",
    "\n",
    "    # Determine if image has transparency\n",
    "    has_transparency = (\n",
    "        original.mode in ('RGBA', 'LA') or \n",
    "        (original.mode == 'P' and 'transparency' in original.info)\n",
    "    )\n",
    "    \n",
    "    # Auto-rotate based on EXIF\n",
    "    original = ImageOps.exif_transpose(original)\n",
    "\n",
    "    # Resize if larger than max_size while maintaining aspect ratio\n",
    "    if original.size[0] > max_size[0] or original.size[1] > max_size[1]:\n",
    "        original.thumbnail(max_size, Image.Resampling.LANCZOS)\n",
    "\n",
    "    # Convert mode based on transparency\n",
    "    if has_transparency:\n",
    "        if original.mode != 'RGBA':\n",
    "            original = original.convert('RGBA')\n",
    "        best_format = 'PNG'\n",
    "    else:\n",
    "        if original.mode in ('RGBA', 'P', 'LA'):\n",
    "            original = original.convert('RGB')\n",
    "        best_format = 'JPEG'\n",
    "\n",
    "    # Save with optimized settings\n",
    "    save_kwargs = {}\n",
    "    if best_format == 'JPEG':\n",
    "        save_kwargs.update({\n",
    "            'quality': 85,\n",
    "            'optimize': True,\n",
    "            'progressive': True\n",
    "        })\n",
    "        output_path = output_path.with_suffix('.jpg')\n",
    "    elif best_format == 'PNG':\n",
    "        save_kwargs.update({\n",
    "            'optimize': True,\n",
    "            'compress_level': 6\n",
    "        })\n",
    "        output_path = output_path.with_suffix('.png')\n",
    "    print(f'Saving {output_path}')\n",
    "    original.save(output_path, format=best_format, **save_kwargs)\n",
    "    return output_path"
   ]
  },
  {
   "cell_type": "code",
   "execution_count": 26,
   "metadata": {},
   "outputs": [
    {
     "name": "stdout",
     "output_type": "stream",
     "text": [
      "Saving /root/source/imagenation-api/data/ready/2.jpg\n",
      "Saving /root/source/imagenation-api/data/ready/4.jpg\n",
      "Saving /root/source/imagenation-api/data/ready/5.jpg\n",
      "Saving /root/source/imagenation-api/data/ready/3.jpg\n",
      "Saving /root/source/imagenation-api/data/ready/6.jpg\n",
      "Saving /root/source/imagenation-api/data/ready/10.jpg\n",
      "Saving /root/source/imagenation-api/data/ready/8.jpg\n",
      "Saving /root/source/imagenation-api/data/ready/9.jpg\n",
      "Saving /root/source/imagenation-api/data/ready/1.jpg\n",
      "Saving /root/source/imagenation-api/data/ready/7.jpg\n"
     ]
    }
   ],
   "source": [
    "image_file_paths = []\n",
    "for file_path in INPUTS_DIR.glob(\"*\"):\n",
    "    is_image = perform_is_image(file_path)\n",
    "    if not is_image:\n",
    "        continue\n",
    "    start_output_path = READY_DIR / file_path.name\n",
    "    final_output_path = clear_and_optimise_image(file_path, start_output_path)\n",
    "    image_file_paths.append(final_output_path)"
   ]
  },
  {
   "cell_type": "code",
   "execution_count": 27,
   "metadata": {},
   "outputs": [],
   "source": [
    "OUTPUTS_DIR.mkdir(exist_ok=True, parents=True)\n",
    "zip_out_path = OUTPUTS_DIR / \"images-optimized.zip\""
   ]
  },
  {
   "cell_type": "code",
   "execution_count": 28,
   "metadata": {},
   "outputs": [
    {
     "name": "stdout",
     "output_type": "stream",
     "text": [
      "Zipped images to /root/source/imagenation-api/data/outputs/images-optimized.zip\n"
     ]
    }
   ],
   "source": [
    "with tempfile.TemporaryDirectory() as tmp_dir:\n",
    "    for image_file_path in image_file_paths:\n",
    "        shutil.copy(image_file_path, tmp_dir)\n",
    "\n",
    "    shutil.make_archive(zip_out_path.with_suffix(\"\"), \"zip\", tmp_dir)\n",
    "    print(f\"Zipped images to {zip_out_path}\")"
   ]
  }
 ],
 "metadata": {
  "kernelspec": {
   "display_name": "venv",
   "language": "python",
   "name": "python3"
  },
  "language_info": {
   "codemirror_mode": {
    "name": "ipython",
    "version": 3
   },
   "file_extension": ".py",
   "mimetype": "text/x-python",
   "name": "python",
   "nbconvert_exporter": "python",
   "pygments_lexer": "ipython3",
   "version": "3.10.12"
  }
 },
 "nbformat": 4,
 "nbformat_minor": 2
}
