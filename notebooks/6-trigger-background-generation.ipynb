{
 "cells": [
  {
   "cell_type": "code",
   "execution_count": 1,
   "metadata": {},
   "outputs": [],
   "source": [
    "import pathlib\n",
    "from decouple import config\n",
    "from replicate.client import Client"
   ]
  },
  {
   "cell_type": "code",
   "execution_count": 2,
   "metadata": {},
   "outputs": [],
   "source": [
    "NBS_DIR = pathlib.Path().resolve()\n",
    "REPO_DIR = NBS_DIR.parent\n",
    "DATA_DIR = REPO_DIR / \"data\"\n",
    "GENERATED_DIR = DATA_DIR / \"generated\"\n",
    "GENERATED_DIR.mkdir(exist_ok=True, parents=True)\n",
    "\n",
    "REPLICATE_API_TOKEN = config(\"REPLICATE_API_TOKEN\")\n",
    "REPLICATE_MODEL = config(\"REPLICATE_MODEL\", default=\"flylikeapenguin/imagenation-joe-v1\")\n",
    "REPLICATE_MODEL_VERSION = config(\"REPLICATE_MODEL_VERSION\", default=\"13ef474b3581629940a325ed0c3b3f3408cfccad7da103e494ae81f5bdfb394a\")"
   ]
  },
  {
   "cell_type": "code",
   "execution_count": 3,
   "metadata": {},
   "outputs": [],
   "source": [
    "replicate_client = Client(api_token=REPLICATE_API_TOKEN)"
   ]
  },
  {
   "cell_type": "code",
   "execution_count": 4,
   "metadata": {},
   "outputs": [],
   "source": [
    "model = f\"{REPLICATE_MODEL}:{REPLICATE_MODEL_VERSION}\"\n",
    "prompt = \"a photo of TOK adult man dressed up for a library photo shoot\"\n",
    "num_outputs = 2\n",
    "output_format = \"jpg\"\n",
    "\n",
    "input_args = {\n",
    "    \"prompt\": prompt,\n",
    "    \"num_outputs\": num_outputs,\n",
    "    \"output_format\": output_format,\n",
    "}"
   ]
  },
  {
   "cell_type": "code",
   "execution_count": 5,
   "metadata": {},
   "outputs": [],
   "source": [
    "rep_model = replicate_client.models.get(REPLICATE_MODEL)\n",
    "rep_version = rep_model.versions.get(REPLICATE_MODEL_VERSION)\n",
    "\n",
    "pred = replicate_client.predictions.create(\n",
    "    version=rep_version,\n",
    "    input=input_args\n",
    ")"
   ]
  },
  {
   "cell_type": "code",
   "execution_count": 9,
   "metadata": {},
   "outputs": [
    {
     "data": {
      "text/plain": [
       "'c8pqqhr6k1rmc0cm5ejb63gjp8'"
      ]
     },
     "execution_count": 9,
     "metadata": {},
     "output_type": "execute_result"
    }
   ],
   "source": [
    "pred.id"
   ]
  },
  {
   "cell_type": "code",
   "execution_count": 11,
   "metadata": {},
   "outputs": [
    {
     "data": {
      "text/plain": [
       "'starting'"
      ]
     },
     "execution_count": 11,
     "metadata": {},
     "output_type": "execute_result"
    }
   ],
   "source": [
    "pred.status"
   ]
  },
  {
   "cell_type": "code",
   "execution_count": 15,
   "metadata": {},
   "outputs": [],
   "source": [
    "# upstash -> qstash"
   ]
  },
  {
   "cell_type": "code",
   "execution_count": 13,
   "metadata": {},
   "outputs": [],
   "source": [
    "pred_id = \"c8pqqhr6k1rmc0cm5ejb63gjp8\"\n",
    "pred_lookup = replicate_client.predictions.get(pred_id)"
   ]
  },
  {
   "cell_type": "code",
   "execution_count": 14,
   "metadata": {},
   "outputs": [
    {
     "data": {
      "text/plain": [
       "'succeeded'"
      ]
     },
     "execution_count": 14,
     "metadata": {},
     "output_type": "execute_result"
    }
   ],
   "source": [
    "pred_lookup.status"
   ]
  },
  {
   "cell_type": "code",
   "execution_count": 15,
   "metadata": {},
   "outputs": [
    {
     "data": {
      "text/plain": [
       "['https://replicate.delivery/xezq/LPyQpoWul0qHC12GpCTqcblJtipCVt5qPIfjaph7rdqtSrAKA/out-0.jpg',\n",
       " 'https://replicate.delivery/xezq/G7RJO96ak06LF1RGuU1QcJA23yY8gfH41s8KLSwTfLqblWBUA/out-1.jpg']"
      ]
     },
     "execution_count": 15,
     "metadata": {},
     "output_type": "execute_result"
    }
   ],
   "source": [
    "pred_urls = pred_lookup.output\n",
    "pred_urls"
   ]
  },
  {
   "cell_type": "code",
   "execution_count": 16,
   "metadata": {},
   "outputs": [],
   "source": [
    "import httpx\n",
    "import random\n",
    "\n",
    "session_id = random.randint(1_000, 40_000)\n",
    "with httpx.Client() as client:\n",
    "    for i, url in enumerate(pred_urls):\n",
    "        fname = f\"{i}-{session_id}.jpg\"\n",
    "        outpath = GENERATED_DIR / fname\n",
    "        res = client.get(url)\n",
    "        res.raise_for_status()\n",
    "        with open(outpath, 'wb') as f:\n",
    "            f.write(res.content)"
   ]
  }
 ],
 "metadata": {
  "kernelspec": {
   "display_name": "venv",
   "language": "python",
   "name": "python3"
  },
  "language_info": {
   "codemirror_mode": {
    "name": "ipython",
    "version": 3
   },
   "file_extension": ".py",
   "mimetype": "text/x-python",
   "name": "python",
   "nbconvert_exporter": "python",
   "pygments_lexer": "ipython3",
   "version": "3.10.12"
  }
 },
 "nbformat": 4,
 "nbformat_minor": 2
}
