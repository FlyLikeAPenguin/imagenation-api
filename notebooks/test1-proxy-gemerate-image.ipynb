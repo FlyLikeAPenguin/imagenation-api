{
 "cells": [
  {
   "cell_type": "code",
   "execution_count": 7,
   "metadata": {},
   "outputs": [],
   "source": [
    "import httpx\n",
    "endpoint = \"http://127.0.0.1:8000/generate\""
   ]
  },
  {
   "cell_type": "code",
   "execution_count": 10,
   "metadata": {},
   "outputs": [],
   "source": [
    "# Should fail because json is not formatted correctly\n",
    "res = httpx.post(endpoint, json={\"not-a-prompt\": \"a prompt without the target word\"})"
   ]
  },
  {
   "cell_type": "code",
   "execution_count": 8,
   "metadata": {},
   "outputs": [],
   "source": [
    "# Should fail because prompt is missing the target word\n",
    "res = httpx.post(endpoint, json={\"prompt\": \"a prompt without the target word\"})"
   ]
  },
  {
   "cell_type": "code",
   "execution_count": null,
   "metadata": {},
   "outputs": [],
   "source": [
    "# Should succeed\n",
    "res = httpx.post(endpoint, json={\"prompt\": \"a photo of TOK adult man dressed up for a professional photo shoot\"})"
   ]
  },
  {
   "cell_type": "code",
   "execution_count": 11,
   "metadata": {},
   "outputs": [
    {
     "data": {
      "text/plain": [
       "(422,\n",
       " {'detail': [{'type': 'missing',\n",
       "    'loc': ['body', 'prompt'],\n",
       "    'msg': 'Field required',\n",
       "    'input': {'not-a-prompt': 'a prompt without the target word'}}]})"
      ]
     },
     "execution_count": 11,
     "metadata": {},
     "output_type": "execute_result"
    }
   ],
   "source": [
    "res.status_code, res.json()"
   ]
  }
 ],
 "metadata": {
  "kernelspec": {
   "display_name": "venv",
   "language": "python",
   "name": "python3"
  },
  "language_info": {
   "codemirror_mode": {
    "name": "ipython",
    "version": 3
   },
   "file_extension": ".py",
   "mimetype": "text/x-python",
   "name": "python",
   "nbconvert_exporter": "python",
   "pygments_lexer": "ipython3",
   "version": "3.10.12"
  }
 },
 "nbformat": 4,
 "nbformat_minor": 2
}
